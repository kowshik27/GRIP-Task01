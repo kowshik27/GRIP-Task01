{
  "nbformat": 4,
  "nbformat_minor": 0,
  "metadata": {
    "colab": {
      "name": "GRIP-Task1: Prediction using Supervised ML",
      "provenance": [],
      "authorship_tag": "ABX9TyOoyXC5qP3ps5+KzgbpaR1Z",
      "include_colab_link": true
    },
    "kernelspec": {
      "name": "python3",
      "display_name": "Python 3"
    },
    "language_info": {
      "name": "python"
    }
  },
  "cells": [
    {
      "cell_type": "markdown",
      "metadata": {
        "id": "view-in-github",
        "colab_type": "text"
      },
      "source": [
        "<a href=\"https://colab.research.google.com/github/kowshik27/GRIP-Task01/blob/main/GRIP_Task1_Prediction_using_Supervised_ML.ipynb\" target=\"_parent\"><img src=\"https://colab.research.google.com/assets/colab-badge.svg\" alt=\"Open In Colab\"/></a>"
      ]
    },
    {
      "cell_type": "markdown",
      "metadata": {
        "id": "-fC8wih_atXn"
      },
      "source": [
        "# GRIP MAY'21 INTERNSHIP TASK 1:\n",
        "\n",
        ">The **objective** is to predict the percentage scored by students when number of hours studied by the student is provided"
      ]
    },
    {
      "cell_type": "markdown",
      "metadata": {
        "id": "6G_4gHo0Xx2V"
      },
      "source": [
        "\n",
        "# **Simple Linear Regression ML model using scikit learn library**\n",
        "\n",
        "\n",
        "\n",
        "> In this section, we are going to see the implementation of scikit learn regression functions for making predictions \n",
        "\n",
        "\n"
      ]
    },
    {
      "cell_type": "markdown",
      "metadata": {
        "id": "gS5yr0P_-JYf"
      },
      "source": [
        "## Firstly, we've to import some Libraries"
      ]
    },
    {
      "cell_type": "code",
      "metadata": {
        "id": "7IoHobAe9Z_X"
      },
      "source": [
        "import numpy as np\n",
        "import matplotlib.pyplot as plt\n",
        "import pandas as pd\n",
        "import seaborn as sns"
      ],
      "execution_count": null,
      "outputs": []
    },
    {
      "cell_type": "markdown",
      "metadata": {
        "id": "CTlcRyvyib5M"
      },
      "source": [
        "## Data Preprocessing"
      ]
    },
    {
      "cell_type": "code",
      "metadata": {
        "id": "7E7eHPtHTFA0"
      },
      "source": [
        "url = 'https://raw.githubusercontent.com/AdiPersonalWorks/Random/master/student_scores%20-%20student_scores.csv'\n",
        "dataset = pd.read_csv(url, delimiter= \",\")"
      ],
      "execution_count": null,
      "outputs": []
    },
    {
      "cell_type": "code",
      "metadata": {
        "colab": {
          "base_uri": "https://localhost:8080/",
          "height": 195
        },
        "id": "Dj98WcsKh2Gv",
        "outputId": "10e60db2-8a1d-48ca-c4bb-d6eb8a06a02b"
      },
      "source": [
        "# Head function displays the data, by default shows 5 rows\n",
        "dataset.head()"
      ],
      "execution_count": null,
      "outputs": [
        {
          "output_type": "execute_result",
          "data": {
            "text/html": [
              "<div>\n",
              "<style scoped>\n",
              "    .dataframe tbody tr th:only-of-type {\n",
              "        vertical-align: middle;\n",
              "    }\n",
              "\n",
              "    .dataframe tbody tr th {\n",
              "        vertical-align: top;\n",
              "    }\n",
              "\n",
              "    .dataframe thead th {\n",
              "        text-align: right;\n",
              "    }\n",
              "</style>\n",
              "<table border=\"1\" class=\"dataframe\">\n",
              "  <thead>\n",
              "    <tr style=\"text-align: right;\">\n",
              "      <th></th>\n",
              "      <th>Hours</th>\n",
              "      <th>Scores</th>\n",
              "    </tr>\n",
              "  </thead>\n",
              "  <tbody>\n",
              "    <tr>\n",
              "      <th>0</th>\n",
              "      <td>2.5</td>\n",
              "      <td>21</td>\n",
              "    </tr>\n",
              "    <tr>\n",
              "      <th>1</th>\n",
              "      <td>5.1</td>\n",
              "      <td>47</td>\n",
              "    </tr>\n",
              "    <tr>\n",
              "      <th>2</th>\n",
              "      <td>3.2</td>\n",
              "      <td>27</td>\n",
              "    </tr>\n",
              "    <tr>\n",
              "      <th>3</th>\n",
              "      <td>8.5</td>\n",
              "      <td>75</td>\n",
              "    </tr>\n",
              "    <tr>\n",
              "      <th>4</th>\n",
              "      <td>3.5</td>\n",
              "      <td>30</td>\n",
              "    </tr>\n",
              "  </tbody>\n",
              "</table>\n",
              "</div>"
            ],
            "text/plain": [
              "   Hours  Scores\n",
              "0    2.5      21\n",
              "1    5.1      47\n",
              "2    3.2      27\n",
              "3    8.5      75\n",
              "4    3.5      30"
            ]
          },
          "metadata": {
            "tags": []
          },
          "execution_count": 26
        }
      ]
    },
    {
      "cell_type": "code",
      "metadata": {
        "colab": {
          "base_uri": "https://localhost:8080/"
        },
        "id": "EYzBn2aeij3Y",
        "outputId": "97a1052f-f2e3-46ea-c9b9-594c67742524"
      },
      "source": [
        "# Checking for any missing data in dataset\n",
        "dataset.isnull().sum()"
      ],
      "execution_count": null,
      "outputs": [
        {
          "output_type": "execute_result",
          "data": {
            "text/plain": [
              "Hours     0\n",
              "Scores    0\n",
              "dtype: int64"
            ]
          },
          "metadata": {
            "tags": []
          },
          "execution_count": 27
        }
      ]
    },
    {
      "cell_type": "code",
      "metadata": {
        "colab": {
          "base_uri": "https://localhost:8080/",
          "height": 295
        },
        "id": "Tqgwwt4Lmnrb",
        "outputId": "30527bd3-6ac4-4bae-f0be-327f9b0ecb55"
      },
      "source": [
        "# plot for Hours vs Scores using plt\n",
        "dataset.plot(x='Hours', y='Scores', style='*')  \n",
        "plt.title('Hours vs Percentage')  \n",
        "plt.xlabel('Hours Studied')  \n",
        "plt.ylabel('Percentage Scored')  \n",
        "plt.show()"
      ],
      "execution_count": null,
      "outputs": [
        {
          "output_type": "display_data",
          "data": {
            "image/png": "[encoded data removed]",
            "text/plain": [
              "<Figure size 432x288 with 1 Axes>"
            ]
          },
          "metadata": {
            "tags": []
          }
        }
      ]
    },
    {
      "cell_type": "code",
      "metadata": {
        "colab": {
          "base_uri": "https://localhost:8080/",
          "height": 297
        },
        "id": "v-sXPw_xjezS",
        "outputId": "331a3a75-a448-478f-ac12-0617b23445ec"
      },
      "source": [
        "# plot for Hours vs Scores using sns\n",
        "\n",
        "sns.set_style('whitegrid')\n",
        "sns.regplot(x ='Hours', y ='Scores', data = dataset, marker = 'd', color = 'green')"
      ],
      "execution_count": null,
      "outputs": [
        {
          "output_type": "execute_result",
          "data": {
            "text/plain": [
              "<matplotlib.axes._subplots.AxesSubplot at 0x7f7967dff2d0>"
            ]
          },
          "metadata": {
            "tags": []
          },
          "execution_count": 60
        },
        {
          "output_type": "display_data",
          "data": {
            "image/png": "[encoded data removed]",
            "text/plain": [
              "<Figure size 432x288 with 1 Axes>"
            ]
          },
          "metadata": {
            "tags": []
          }
        }
      ]
    },
    {
      "cell_type": "code",
      "metadata": {
        "id": "2wvSnpeEBkgF",
        "colab": {
          "base_uri": "https://localhost:8080/"
        },
        "outputId": "090c6a02-7492-40cf-a6f9-aed2f4d49c98"
      },
      "source": [
        "# extracting feature(hrs) abd label(scores)\n",
        "hours = dataset.iloc[:,0:1].values\n",
        "scores = dataset.iloc[:,1].values\n",
        "print(hours,'\\n\\n\\n',scores)"
      ],
      "execution_count": null,
      "outputs": [
        {
          "output_type": "stream",
          "text": [
            "[[2.5]\n",
            " [5.1]\n",
            " [3.2]\n",
            " [8.5]\n",
            " [3.5]\n",
            " [1.5]\n",
            " [9.2]\n",
            " [5.5]\n",
            " [8.3]\n",
            " [2.7]\n",
            " [7.7]\n",
            " [5.9]\n",
            " [4.5]\n",
            " [3.3]\n",
            " [1.1]\n",
            " [8.9]\n",
            " [2.5]\n",
            " [1.9]\n",
            " [6.1]\n",
            " [7.4]\n",
            " [2.7]\n",
            " [4.8]\n",
            " [3.8]\n",
            " [6.9]\n",
            " [7.8]] \n",
            "\n",
            "\n",
            " [21 47 27 75 30 20 88 60 81 25 85 62 41 42 17 95 30 24 67 69 30 54 35 76\n",
            " 86]\n"
          ],
          "name": "stdout"
        }
      ]
    },
    {
      "cell_type": "markdown",
      "metadata": {
        "id": "l-_AWo45n4Jo"
      },
      "source": [
        "## Now, we are spliting the data into train and test data"
      ]
    },
    {
      "cell_type": "code",
      "metadata": {
        "id": "WG42ojq1n3Xn"
      },
      "source": [
        "from sklearn.model_selection import train_test_split  \n",
        "Xtrain, Xtest, ytrain, ytest = train_test_split(hours, scores, test_size=0.2, random_state =0)"
      ],
      "execution_count": null,
      "outputs": []
    },
    {
      "cell_type": "markdown",
      "metadata": {
        "id": "94CroPopp1v5"
      },
      "source": [
        "## Training and Prediction "
      ]
    },
    {
      "cell_type": "code",
      "metadata": {
        "id": "ApdX3SjyB7d2"
      },
      "source": [
        "from sklearn.linear_model import LinearRegression\n",
        "linear_regression = LinearRegression()          #Determining Model\n",
        "linear_regression.fit(Xtrain,ytrain)             # Training Model\n",
        "ypred = linear_regression.predict(Xtest)          # prediction score for test data"
      ],
      "execution_count": null,
      "outputs": []
    },
    {
      "cell_type": "code",
      "metadata": {
        "colab": {
          "base_uri": "https://localhost:8080/",
          "height": 195
        },
        "id": "K0f6yQx3qiBD",
        "outputId": "2694da07-e0cc-4b69-87d4-8c4880913e23"
      },
      "source": [
        "df = pd.DataFrame({'Actual %': ytest, 'Predicted %': ypred}) \n",
        "df"
      ],
      "execution_count": null,
      "outputs": [
        {
          "output_type": "execute_result",
          "data": {
            "text/html": [
              "<div>\n",
              "<style scoped>\n",
              "    .dataframe tbody tr th:only-of-type {\n",
              "        vertical-align: middle;\n",
              "    }\n",
              "\n",
              "    .dataframe tbody tr th {\n",
              "        vertical-align: top;\n",
              "    }\n",
              "\n",
              "    .dataframe thead th {\n",
              "        text-align: right;\n",
              "    }\n",
              "</style>\n",
              "<table border=\"1\" class=\"dataframe\">\n",
              "  <thead>\n",
              "    <tr style=\"text-align: right;\">\n",
              "      <th></th>\n",
              "      <th>Actual %</th>\n",
              "      <th>Predicted %</th>\n",
              "    </tr>\n",
              "  </thead>\n",
              "  <tbody>\n",
              "    <tr>\n",
              "      <th>0</th>\n",
              "      <td>20</td>\n",
              "      <td>16.884145</td>\n",
              "    </tr>\n",
              "    <tr>\n",
              "      <th>1</th>\n",
              "      <td>27</td>\n",
              "      <td>33.732261</td>\n",
              "    </tr>\n",
              "    <tr>\n",
              "      <th>2</th>\n",
              "      <td>69</td>\n",
              "      <td>75.357018</td>\n",
              "    </tr>\n",
              "    <tr>\n",
              "      <th>3</th>\n",
              "      <td>30</td>\n",
              "      <td>26.794801</td>\n",
              "    </tr>\n",
              "    <tr>\n",
              "      <th>4</th>\n",
              "      <td>62</td>\n",
              "      <td>60.491033</td>\n",
              "    </tr>\n",
              "  </tbody>\n",
              "</table>\n",
              "</div>"
            ],
            "text/plain": [
              "   Actual %  Predicted %\n",
              "0        20    16.884145\n",
              "1        27    33.732261\n",
              "2        69    75.357018\n",
              "3        30    26.794801\n",
              "4        62    60.491033"
            ]
          },
          "metadata": {
            "tags": []
          },
          "execution_count": 105
        }
      ]
    },
    {
      "cell_type": "code",
      "metadata": {
        "colab": {
          "base_uri": "https://localhost:8080/"
        },
        "id": "JhtDRJNSqyaF",
        "outputId": "aae8ab90-2b6c-4ee8-8b72-1ff132314c7e"
      },
      "source": [
        "# Now lets test the learning model with 9.25 study hours\n",
        "yprd = linear_regression.predict([[9.25]])\n",
        "print('The predicted percentage scored for 9.25 hours of study', round(yprd[0],5)) "
      ],
      "execution_count": null,
      "outputs": [
        {
          "output_type": "stream",
          "text": [
            "The predicted percentage scored for 9.25 hours of study 93.69173\n"
          ],
          "name": "stdout"
        }
      ]
    },
    {
      "cell_type": "markdown",
      "metadata": {
        "id": "XLqiGEdStlil"
      },
      "source": [
        "## Accuracy of the Learning Model/ Model Evaluation\n",
        "\n"
      ]
    },
    {
      "cell_type": "code",
      "metadata": {
        "colab": {
          "base_uri": "https://localhost:8080/"
        },
        "id": "EqHXlYPNtsrh",
        "outputId": "bbbe2d74-4c18-4cec-d525-e4d7521ca0d6"
      },
      "source": [
        "from sklearn.metrics import mean_absolute_error\n",
        "MA_error = mean_absolute_error(ytest,ypred)\n",
        "err = round(MA_error,4)\n",
        "print('Mean absolute error',err)\n",
        "# similarly\n",
        "from sklearn.metrics import mean_squared_error\n",
        "print('Mean Squared error', round(\n",
        "    mean_squared_error(ytest,ypred,squared = True),4\n",
        "))\n",
        "print('Root Mean Squared(RMS) error', round(\n",
        "    mean_squared_error(ytest,ypred,squared = False),4\n",
        "))"
      ],
      "execution_count": null,
      "outputs": [
        {
          "output_type": "stream",
          "text": [
            "Mean absolute error 4.1839\n",
            "Mean Squared error 21.5988\n",
            "Root Mean Squared(RMS) error 4.6474\n"
          ],
          "name": "stdout"
        }
      ]
    }
  ]
}