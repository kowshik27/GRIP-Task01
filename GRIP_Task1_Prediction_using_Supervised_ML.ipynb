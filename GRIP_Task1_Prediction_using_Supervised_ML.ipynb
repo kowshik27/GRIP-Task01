{
  "nbformat": 4,
  "nbformat_minor": 0,
  "metadata": {
    "colab": {
      "name": "GRIP-Task1: Prediction using Supervised ML",
      "provenance": [],
      "authorship_tag": "ABX9TyOq+tBoQ+6vmXvg8QhOHloH",
      "include_colab_link": true
    },
    "kernelspec": {
      "name": "python3",
      "display_name": "Python 3"
    },
    "language_info": {
      "name": "python"
    }
  },
  "cells": [
    {
      "cell_type": "markdown",
      "metadata": {
        "id": "view-in-github",
        "colab_type": "text"
      },
      "source": [
        "<a href=\"https://colab.research.google.com/github/kowshik27/GRIP-Task01/blob/main/GRIP_Task1_Prediction_using_Supervised_ML.ipynb\" target=\"_parent\"><img src=\"https://colab.research.google.com/assets/colab-badge.svg\" alt=\"Open In Colab\"/></a>"
      ]
    },
    {
      "cell_type": "markdown",
      "metadata": {
        "id": "-fC8wih_atXn"
      },
      "source": [
        "# GRIP MAY'21 INTERNSHIP TASK 1:\n",
        "\n",
        ">The **objective** is to predict the percentage scored by students when number of hours studied by the student is provided"
      ]
    },
    {
      "cell_type": "markdown",
      "metadata": {
        "id": "6G_4gHo0Xx2V"
      },
      "source": [
        "\n",
        "# **Simple Linear Regression ML model using scikit learn library**\n",
        "\n",
        "\n",
        "\n",
        "> In this section, we are going to see the implementation of scikit learn regression functions for making predictions \n",
        "\n",
        "\n"
      ]
    },
    {
      "cell_type": "markdown",
      "metadata": {
        "id": "gS5yr0P_-JYf"
      },
      "source": [
        "## Firstly, we've to import some Libraries"
      ]
    },
    {
      "cell_type": "code",
      "metadata": {
        "id": "7IoHobAe9Z_X"
      },
      "source": [
        "\n",
        "import numpy as np\n",
        "import matplotlib.pyplot as plt\n",
        "import pandas as pd\n",
        "import seaborn as sns"
      ],
      "execution_count": 2,
      "outputs": []
    },
    {
      "cell_type": "markdown",
      "metadata": {
        "id": "CTlcRyvyib5M"
      },
      "source": [
        "## Data Preprocessing"
      ]
    },
    {
      "cell_type": "code",
      "metadata": {
        "id": "7E7eHPtHTFA0"
      },
      "source": [
        "url = 'https://raw.githubusercontent.com/AdiPersonalWorks/Random/master/student_scores%20-%20student_scores.csv'\n",
        "dataset = pd.read_csv(url, delimiter= \",\")"
      ],
      "execution_count": 3,
      "outputs": []
    },
    {
      "cell_type": "code",
      "metadata": {
        "colab": {
          "base_uri": "https://localhost:8080/",
          "height": 195
        },
        "id": "Dj98WcsKh2Gv",
        "outputId": "36f9f2e9-98e1-4ae0-85c0-e3dd50b341e9"
      },
      "source": [
        "# Head function displays the data, by default shows 5 rows\n",
        "dataset.head()"
      ],
      "execution_count": 4,
      "outputs": [
        {
          "output_type": "execute_result",
          "data": {
            "text/html": [
              "<div>\n",
              "<style scoped>\n",
              "    .dataframe tbody tr th:only-of-type {\n",
              "        vertical-align: middle;\n",
              "    }\n",
              "\n",
              "    .dataframe tbody tr th {\n",
              "        vertical-align: top;\n",
              "    }\n",
              "\n",
              "    .dataframe thead th {\n",
              "        text-align: right;\n",
              "    }\n",
              "</style>\n",
              "<table border=\"1\" class=\"dataframe\">\n",
              "  <thead>\n",
              "    <tr style=\"text-align: right;\">\n",
              "      <th></th>\n",
              "      <th>Hours</th>\n",
              "      <th>Scores</th>\n",
              "    </tr>\n",
              "  </thead>\n",
              "  <tbody>\n",
              "    <tr>\n",
              "      <th>0</th>\n",
              "      <td>2.5</td>\n",
              "      <td>21</td>\n",
              "    </tr>\n",
              "    <tr>\n",
              "      <th>1</th>\n",
              "      <td>5.1</td>\n",
              "      <td>47</td>\n",
              "    </tr>\n",
              "    <tr>\n",
              "      <th>2</th>\n",
              "      <td>3.2</td>\n",
              "      <td>27</td>\n",
              "    </tr>\n",
              "    <tr>\n",
              "      <th>3</th>\n",
              "      <td>8.5</td>\n",
              "      <td>75</td>\n",
              "    </tr>\n",
              "    <tr>\n",
              "      <th>4</th>\n",
              "      <td>3.5</td>\n",
              "      <td>30</td>\n",
              "    </tr>\n",
              "  </tbody>\n",
              "</table>\n",
              "</div>"
            ],
            "text/plain": [
              "   Hours  Scores\n",
              "0    2.5      21\n",
              "1    5.1      47\n",
              "2    3.2      27\n",
              "3    8.5      75\n",
              "4    3.5      30"
            ]
          },
          "metadata": {
            "tags": []
          },
          "execution_count": 4
        }
      ]
    },
    {
      "cell_type": "code",
      "metadata": {
        "colab": {
          "base_uri": "https://localhost:8080/",
          "height": 284
        },
        "id": "pCkn8ZeVGjUd",
        "outputId": "a3a063c1-58cb-4248-d69a-addd971fb410"
      },
      "source": [
        "# gives details about the numerical columns in dataset\n",
        "dataset.describe()"
      ],
      "execution_count": 6,
      "outputs": [
        {
          "output_type": "execute_result",
          "data": {
            "text/html": [
              "<div>\n",
              "<style scoped>\n",
              "    .dataframe tbody tr th:only-of-type {\n",
              "        vertical-align: middle;\n",
              "    }\n",
              "\n",
              "    .dataframe tbody tr th {\n",
              "        vertical-align: top;\n",
              "    }\n",
              "\n",
              "    .dataframe thead th {\n",
              "        text-align: right;\n",
              "    }\n",
              "</style>\n",
              "<table border=\"1\" class=\"dataframe\">\n",
              "  <thead>\n",
              "    <tr style=\"text-align: right;\">\n",
              "      <th></th>\n",
              "      <th>Hours</th>\n",
              "      <th>Scores</th>\n",
              "    </tr>\n",
              "  </thead>\n",
              "  <tbody>\n",
              "    <tr>\n",
              "      <th>count</th>\n",
              "      <td>25.000000</td>\n",
              "      <td>25.000000</td>\n",
              "    </tr>\n",
              "    <tr>\n",
              "      <th>mean</th>\n",
              "      <td>5.012000</td>\n",
              "      <td>51.480000</td>\n",
              "    </tr>\n",
              "    <tr>\n",
              "      <th>std</th>\n",
              "      <td>2.525094</td>\n",
              "      <td>25.286887</td>\n",
              "    </tr>\n",
              "    <tr>\n",
              "      <th>min</th>\n",
              "      <td>1.100000</td>\n",
              "      <td>17.000000</td>\n",
              "    </tr>\n",
              "    <tr>\n",
              "      <th>25%</th>\n",
              "      <td>2.700000</td>\n",
              "      <td>30.000000</td>\n",
              "    </tr>\n",
              "    <tr>\n",
              "      <th>50%</th>\n",
              "      <td>4.800000</td>\n",
              "      <td>47.000000</td>\n",
              "    </tr>\n",
              "    <tr>\n",
              "      <th>75%</th>\n",
              "      <td>7.400000</td>\n",
              "      <td>75.000000</td>\n",
              "    </tr>\n",
              "    <tr>\n",
              "      <th>max</th>\n",
              "      <td>9.200000</td>\n",
              "      <td>95.000000</td>\n",
              "    </tr>\n",
              "  </tbody>\n",
              "</table>\n",
              "</div>"
            ],
            "text/plain": [
              "           Hours     Scores\n",
              "count  25.000000  25.000000\n",
              "mean    5.012000  51.480000\n",
              "std     2.525094  25.286887\n",
              "min     1.100000  17.000000\n",
              "25%     2.700000  30.000000\n",
              "50%     4.800000  47.000000\n",
              "75%     7.400000  75.000000\n",
              "max     9.200000  95.000000"
            ]
          },
          "metadata": {
            "tags": []
          },
          "execution_count": 6
        }
      ]
    },
    {
      "cell_type": "code",
      "metadata": {
        "colab": {
          "base_uri": "https://localhost:8080/"
        },
        "id": "1QL4I9TzbVuF",
        "outputId": "b933eda7-9b4c-42a8-dd6a-8307e5dc4c6b"
      },
      "source": [
        "dataset.info()"
      ],
      "execution_count": 72,
      "outputs": [
        {
          "output_type": "stream",
          "text": [
            "<class 'pandas.core.frame.DataFrame'>\n",
            "RangeIndex: 25 entries, 0 to 24\n",
            "Data columns (total 2 columns):\n",
            " #   Column  Non-Null Count  Dtype  \n",
            "---  ------  --------------  -----  \n",
            " 0   Hours   25 non-null     float64\n",
            " 1   Scores  25 non-null     int64  \n",
            "dtypes: float64(1), int64(1)\n",
            "memory usage: 528.0 bytes\n"
          ],
          "name": "stdout"
        }
      ]
    },
    {
      "cell_type": "code",
      "metadata": {
        "colab": {
          "base_uri": "https://localhost:8080/"
        },
        "id": "EYzBn2aeij3Y",
        "outputId": "93e8d45d-8e04-4551-b0c9-a591206190b4"
      },
      "source": [
        "# Checking for any missing data in dataset\n",
        "dataset.isnull().sum()"
      ],
      "execution_count": 5,
      "outputs": [
        {
          "output_type": "execute_result",
          "data": {
            "text/plain": [
              "Hours     0\n",
              "Scores    0\n",
              "dtype: int64"
            ]
          },
          "metadata": {
            "tags": []
          },
          "execution_count": 5
        }
      ]
    },
    {
      "cell_type": "code",
      "metadata": {
        "colab": {
          "base_uri": "https://localhost:8080/",
          "height": 106
        },
        "id": "MkKPJ5PYeMCN",
        "outputId": "99eb3eac-fbfb-4133-e0e6-06cb2019be06"
      },
      "source": [
        "dataset.corr()"
      ],
      "execution_count": 84,
      "outputs": [
        {
          "output_type": "execute_result",
          "data": {
            "text/html": [
              "<div>\n",
              "<style scoped>\n",
              "    .dataframe tbody tr th:only-of-type {\n",
              "        vertical-align: middle;\n",
              "    }\n",
              "\n",
              "    .dataframe tbody tr th {\n",
              "        vertical-align: top;\n",
              "    }\n",
              "\n",
              "    .dataframe thead th {\n",
              "        text-align: right;\n",
              "    }\n",
              "</style>\n",
              "<table border=\"1\" class=\"dataframe\">\n",
              "  <thead>\n",
              "    <tr style=\"text-align: right;\">\n",
              "      <th></th>\n",
              "      <th>Hours</th>\n",
              "      <th>Scores</th>\n",
              "    </tr>\n",
              "  </thead>\n",
              "  <tbody>\n",
              "    <tr>\n",
              "      <th>Hours</th>\n",
              "      <td>1.000000</td>\n",
              "      <td>0.976191</td>\n",
              "    </tr>\n",
              "    <tr>\n",
              "      <th>Scores</th>\n",
              "      <td>0.976191</td>\n",
              "      <td>1.000000</td>\n",
              "    </tr>\n",
              "  </tbody>\n",
              "</table>\n",
              "</div>"
            ],
            "text/plain": [
              "           Hours    Scores\n",
              "Hours   1.000000  0.976191\n",
              "Scores  0.976191  1.000000"
            ]
          },
          "metadata": {
            "tags": []
          },
          "execution_count": 84
        }
      ]
    },
    {
      "cell_type": "markdown",
      "metadata": {
        "id": "bLiLdcKmGV_5"
      },
      "source": [
        "## Data Visualization"
      ]
    },
    {
      "cell_type": "code",
      "metadata": {
        "colab": {
          "base_uri": "https://localhost:8080/",
          "height": 295
        },
        "id": "Tqgwwt4Lmnrb",
        "outputId": "0862eea9-7854-4a2f-cf76-429b42fe682f"
      },
      "source": [
        "# plot for Hours vs Scores using plt\n",
        "dataset.plot(x='Hours', y='Scores', style='*', color =\"red\")  \n",
        "plt.title('Hours vs Percentage', fontdict= {'weight' : 'bold', 'color':'blue'} )\n",
        "plt.xlabel('Hours Studied')  \n",
        "plt.ylabel('Percentage Scored')  \n",
        "plt.show()"
      ],
      "execution_count": 83,
      "outputs": [
        {
          "output_type": "display_data",
          "data": {
            "image/png": "[encoded data removed]",
            "text/plain": [
              "<Figure size 432x288 with 1 Axes>"
            ]
          },
          "metadata": {
            "tags": []
          }
        }
      ]
    },
    {
      "cell_type": "code",
      "metadata": {
        "colab": {
          "base_uri": "https://localhost:8080/",
          "height": 297
        },
        "id": "v-sXPw_xjezS",
        "outputId": "25bef3f3-2445-4cc5-ad8e-bc83fdd63af6"
      },
      "source": [
        "# plot for Hours vs Scores using sns\n",
        "\n",
        "sns.set_style('whitegrid')\n",
        "sns.regplot(x ='Hours', y ='Scores', data = dataset, marker = 'd', color = 'green')"
      ],
      "execution_count": 27,
      "outputs": [
        {
          "output_type": "execute_result",
          "data": {
            "text/plain": [
              "<matplotlib.axes._subplots.AxesSubplot at 0x7fdd58fde1d0>"
            ]
          },
          "metadata": {
            "tags": []
          },
          "execution_count": 27
        },
        {
          "output_type": "display_data",
          "data": {
            "image/png": "[encoded data removed]",
            "text/plain": [
              "<Figure size 432x288 with 1 Axes>"
            ]
          },
          "metadata": {
            "tags": []
          }
        }
      ]
    },
    {
      "cell_type": "code",
      "metadata": {
        "id": "2wvSnpeEBkgF",
        "colab": {
          "base_uri": "https://localhost:8080/"
        },
        "outputId": "922913e0-8c50-44cd-87f6-5b1c37cfa775"
      },
      "source": [
        "# extracting feature(hrs) abd label(scores)\n",
        "hours = dataset.iloc[:,0:1].values\n",
        "scores = dataset.iloc[:,1].values\n",
        "print(hours,'\\n\\n\\n',scores)"
      ],
      "execution_count": 9,
      "outputs": [
        {
          "output_type": "stream",
          "text": [
            "[[2.5]\n",
            " [5.1]\n",
            " [3.2]\n",
            " [8.5]\n",
            " [3.5]\n",
            " [1.5]\n",
            " [9.2]\n",
            " [5.5]\n",
            " [8.3]\n",
            " [2.7]\n",
            " [7.7]\n",
            " [5.9]\n",
            " [4.5]\n",
            " [3.3]\n",
            " [1.1]\n",
            " [8.9]\n",
            " [2.5]\n",
            " [1.9]\n",
            " [6.1]\n",
            " [7.4]\n",
            " [2.7]\n",
            " [4.8]\n",
            " [3.8]\n",
            " [6.9]\n",
            " [7.8]] \n",
            "\n",
            "\n",
            " [21 47 27 75 30 20 88 60 81 25 85 62 41 42 17 95 30 24 67 69 30 54 35 76\n",
            " 86]\n"
          ],
          "name": "stdout"
        }
      ]
    },
    {
      "cell_type": "markdown",
      "metadata": {
        "id": "l-_AWo45n4Jo"
      },
      "source": [
        "## Now, we are spliting the data into train and test data"
      ]
    },
    {
      "cell_type": "code",
      "metadata": {
        "id": "WG42ojq1n3Xn"
      },
      "source": [
        "from sklearn.model_selection import train_test_split  \n",
        "Xtrain, Xtest, ytrain, ytest = train_test_split(hours, scores, test_size=0.2, random_state =0)"
      ],
      "execution_count": 10,
      "outputs": []
    },
    {
      "cell_type": "markdown",
      "metadata": {
        "id": "94CroPopp1v5"
      },
      "source": [
        "## Training and Prediction "
      ]
    },
    {
      "cell_type": "code",
      "metadata": {
        "id": "ApdX3SjyB7d2",
        "colab": {
          "base_uri": "https://localhost:8080/"
        },
        "outputId": "7cfc4fe9-08f9-4d8c-ae9d-a76f6edb4752"
      },
      "source": [
        "from sklearn.linear_model import LinearRegression\n",
        "linear_regression = LinearRegression()          #Determining Model\n",
        "lnr =linear_regression.fit(Xtrain,ytrain)             # Training Model\n",
        "print(lnr)\n",
        "ypred = linear_regression.predict(Xtest)          # model predictions for test data"
      ],
      "execution_count": 69,
      "outputs": [
        {
          "output_type": "stream",
          "text": [
            "LinearRegression(copy_X=True, fit_intercept=True, n_jobs=None, normalize=False)\n"
          ],
          "name": "stdout"
        }
      ]
    },
    {
      "cell_type": "code",
      "metadata": {
        "colab": {
          "base_uri": "https://localhost:8080/",
          "height": 195
        },
        "id": "K0f6yQx3qiBD",
        "outputId": "d419df5e-0102-4342-c867-45135fb01a41"
      },
      "source": [
        "df = pd.DataFrame({'Actual %': ytest, 'Predicted %': ypred}) \n",
        "df"
      ],
      "execution_count": 12,
      "outputs": [
        {
          "output_type": "execute_result",
          "data": {
            "text/html": [
              "<div>\n",
              "<style scoped>\n",
              "    .dataframe tbody tr th:only-of-type {\n",
              "        vertical-align: middle;\n",
              "    }\n",
              "\n",
              "    .dataframe tbody tr th {\n",
              "        vertical-align: top;\n",
              "    }\n",
              "\n",
              "    .dataframe thead th {\n",
              "        text-align: right;\n",
              "    }\n",
              "</style>\n",
              "<table border=\"1\" class=\"dataframe\">\n",
              "  <thead>\n",
              "    <tr style=\"text-align: right;\">\n",
              "      <th></th>\n",
              "      <th>Actual %</th>\n",
              "      <th>Predicted %</th>\n",
              "    </tr>\n",
              "  </thead>\n",
              "  <tbody>\n",
              "    <tr>\n",
              "      <th>0</th>\n",
              "      <td>20</td>\n",
              "      <td>16.884145</td>\n",
              "    </tr>\n",
              "    <tr>\n",
              "      <th>1</th>\n",
              "      <td>27</td>\n",
              "      <td>33.732261</td>\n",
              "    </tr>\n",
              "    <tr>\n",
              "      <th>2</th>\n",
              "      <td>69</td>\n",
              "      <td>75.357018</td>\n",
              "    </tr>\n",
              "    <tr>\n",
              "      <th>3</th>\n",
              "      <td>30</td>\n",
              "      <td>26.794801</td>\n",
              "    </tr>\n",
              "    <tr>\n",
              "      <th>4</th>\n",
              "      <td>62</td>\n",
              "      <td>60.491033</td>\n",
              "    </tr>\n",
              "  </tbody>\n",
              "</table>\n",
              "</div>"
            ],
            "text/plain": [
              "   Actual %  Predicted %\n",
              "0        20    16.884145\n",
              "1        27    33.732261\n",
              "2        69    75.357018\n",
              "3        30    26.794801\n",
              "4        62    60.491033"
            ]
          },
          "metadata": {
            "tags": []
          },
          "execution_count": 12
        }
      ]
    },
    {
      "cell_type": "markdown",
      "metadata": {
        "id": "YCq6559je9GF"
      },
      "source": [
        "## **What will be predicted score if a student studies for 9.25 hrs/ day?**"
      ]
    },
    {
      "cell_type": "code",
      "metadata": {
        "colab": {
          "base_uri": "https://localhost:8080/"
        },
        "id": "JhtDRJNSqyaF",
        "outputId": "737ce70c-d482-4be1-a5fd-06c3288f724d"
      },
      "source": [
        "# Now lets test the learning model with 9.25 study hours/ with some other values\n",
        "hrs = float(input('Please enter your number of study hours ') or 9.25)\n",
        "yprd = linear_regression.predict([[hrs]])        # just making hrs to 2d vector\n",
        "print('The predicted percentage scored for', hrs , 'hours of study is', round(yprd[0],5)) "
      ],
      "execution_count": 85,
      "outputs": [
        {
          "output_type": "stream",
          "text": [
            "Please enter your number of study hours 9.25\n",
            "The predicted percentage scored for 9.25 hours of study is 93.69173\n"
          ],
          "name": "stdout"
        }
      ]
    },
    {
      "cell_type": "code",
      "metadata": {
        "colab": {
          "base_uri": "https://localhost:8080/",
          "height": 312
        },
        "id": "FNbUYE5SKLnn",
        "outputId": "5c18ba66-9c6e-40b6-919e-a5f2a7838437"
      },
      "source": [
        "m = linear_regression.coef_\n",
        "c = linear_regression.intercept_\n",
        "line = m*hours+c       # line equation used by regression algorithm for predictions\n",
        "X = hrs\n",
        "y = round(yprd[0],3)\n",
        "\n",
        "\n",
        "plt.scatter(hours,scores, color = 'red', marker = \"s\")\n",
        "plt.plot(hours, line, color = 'blue')\n",
        "plt.plot(X, y, color = 'green', marker = 'o', markersize='14')\n",
        "\n",
        "plt.title('Regression Approximated Line')  \n",
        "plt.xlabel('Hours Studied')  \n",
        "plt.ylabel('Percentage Scored') "
      ],
      "execution_count": 64,
      "outputs": [
        {
          "output_type": "execute_result",
          "data": {
            "text/plain": [
              "Text(0, 0.5, 'Percentage Scored')"
            ]
          },
          "metadata": {
            "tags": []
          },
          "execution_count": 64
        },
        {
          "output_type": "display_data",
          "data": {
            "image/png": "[encoded data removed]",
            "text/plain": [
              "<Figure size 432x288 with 1 Axes>"
            ]
          },
          "metadata": {
            "tags": []
          }
        }
      ]
    },
    {
      "cell_type": "markdown",
      "metadata": {
        "id": "XLqiGEdStlil"
      },
      "source": [
        "## Accuracy of the Learning Model/ Model Evaluation\n",
        "\n"
      ]
    },
    {
      "cell_type": "code",
      "metadata": {
        "colab": {
          "base_uri": "https://localhost:8080/"
        },
        "id": "EqHXlYPNtsrh",
        "outputId": "3867c83c-7596-4a68-ef24-4f20a689a1cb"
      },
      "source": [
        "from sklearn.metrics import mean_absolute_error\n",
        "MA_error = mean_absolute_error(ytest,ypred)\n",
        "err = round(MA_error,4)\n",
        "print('Mean absolute error',err)\n",
        "# similarly\n",
        "from sklearn.metrics import mean_squared_error\n",
        "print('Mean Squared error', round(\n",
        "    mean_squared_error(ytest,ypred,squared = True),4\n",
        "))\n",
        "print('Root Mean Squared(RMS) error', round(\n",
        "    mean_squared_error(ytest,ypred,squared = False),4\n",
        "))"
      ],
      "execution_count": 14,
      "outputs": [
        {
          "output_type": "stream",
          "text": [
            "Mean absolute error 4.1839\n",
            "Mean Squared error 21.5988\n",
            "Root Mean Squared(RMS) error 4.6474\n"
          ],
          "name": "stdout"
        }
      ]
    },
    {
      "cell_type": "markdown",
      "metadata": {
        "id": "AoPFzcD_fL3Z"
      },
      "source": [
        "## **Conclusion**\n",
        "## If a student studies 9.25 hours/day, he may scores 93.69173±4.1839(approx)."
      ]
    }
  ]
}