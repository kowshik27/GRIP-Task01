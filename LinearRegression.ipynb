# GRIP MAY'21 INTERNSHIP TASK 1:

>The **objective** is to predict the percentage scored by students when number of hours studied by the student is provided


# **Simple Linear Regression ML model using scikit learn library**



> In this section, we are going to see the implementation of scikit learn regression functions for making predictions 




## Firstly, we've to import some Libraries

import numpy as np
import matplotlib.pyplot as plt
import pandas as pd
import seaborn as sns

## Data Preprocessing

url = 'https://raw.githubusercontent.com/AdiPersonalWorks/Random/master/student_scores%20-%20student_scores.csv'
dataset = pd.read_csv(url, delimiter= ",")

# Head function displays the data, by default shows 5 rows
dataset.head()

# Checking for any missing data in dataset
dataset.isnull().sum()

# plot for Hours vs Scores using plt
dataset.plot(x='Hours', y='Scores', style='*')  
plt.title('Hours vs Percentage')  
plt.xlabel('Hours Studied')  
plt.ylabel('Percentage Scored')  
plt.show()

# plot for Hours vs Scores using sns

sns.set_style('whitegrid')
sns.regplot(x ='Hours', y ='Scores', data = dataset, marker = 'd', color = 'green')

# extracting feature(hrs) abd label(scores)
hours = dataset.iloc[:,0:1].values
scores = dataset.iloc[:,1].values
print(hours,'\n\n\n',scores)

## Now, we are spliting the data into train and test data

from sklearn.model_selection import train_test_split  
Xtrain, Xtest, ytrain, ytest = train_test_split(hours, scores, test_size=0.2, random_state =0)

## Training and Prediction 

from sklearn.linear_model import LinearRegression
linear_regression = LinearRegression()          #Determining Model
linear_regression.fit(Xtrain,ytrain)             # Training Model
ypred = linear_regression.predict(Xtest)          # prediction score for test data

df = pd.DataFrame({'Actual %': ytest, 'Predicted %': ypred}) 
df

# Now lets test the learning model with 9.25 study hours
yprd = linear_regression.predict([[9.25]])
print('The predicted percentage scored for 9.25 hours of study', round(yprd[0],5)) 

## Accuracy of the Learning Model/ Model Evaluation



from sklearn.metrics import mean_absolute_error
MA_error = mean_absolute_error(ytest,ypred)
err = round(MA_error,4)
print('Mean absolute error',err)
# similarly
from sklearn.metrics import mean_squared_error
print('Mean Squared error', round(
    mean_squared_error(ytest,ypred,squared = True),4
))
print('Root Mean Squared(RMS) error', round(
    mean_squared_error(ytest,ypred,squared = False),4
))
